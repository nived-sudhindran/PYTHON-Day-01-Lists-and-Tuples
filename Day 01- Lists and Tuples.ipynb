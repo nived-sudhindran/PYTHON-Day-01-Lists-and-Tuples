{
 "cells": [
  {
   "cell_type": "markdown",
   "id": "e0e78830-a34c-4844-9670-8d1ece4b14f3",
   "metadata": {},
   "source": [
    "### Write a function to find the second-largest number in a list."
   ]
  },
  {
   "cell_type": "code",
   "execution_count": 10,
   "id": "2ed24940-e95a-4560-a012-94d315744e35",
   "metadata": {
    "scrolled": true
   },
   "outputs": [
    {
     "name": "stdout",
     "output_type": "stream",
     "text": [
      "List in Sorted order  [80, 95, 100, 110, 120, 145, 150]\n",
      "Total Elements in this set is  7\n",
      "Second Largest number in this list is  145\n"
     ]
    }
   ],
   "source": [
    "my_list=[100,80,120,145,95,150,110]\n",
    "my_list.sort()    # SORT THE LIST IN ASCENDING ORDER\n",
    "print(\"List in Sorted order \", my_list)\n",
    "length=len(my_list)    # GET THE NUMBER OF ELEMENTS IN THE LIST\n",
    "print(\"Total Elements in this set is \", length)\n",
    "print(\"Second Largest number in this list is \",my_list[length-2])  # length-2 gives the second largest element in this list"
   ]
  },
  {
   "cell_type": "code",
   "execution_count": null,
   "id": "cb4e9fb4-8d18-46a3-b4d7-748452aaf0ba",
   "metadata": {},
   "outputs": [],
   "source": [
    "\n",
    "\n",
    "\n",
    "\n",
    "\n",
    "\n"
   ]
  },
  {
   "cell_type": "markdown",
   "id": "53e9414f-6eee-4534-9a73-6eef99d18311",
   "metadata": {},
   "source": [
    "### Create a tuple of numbers, and write a function to find the index of a given number"
   ]
  },
  {
   "cell_type": "code",
   "execution_count": 14,
   "id": "eaa92865-1e7f-4f7c-8c0e-a694cb48d4a5",
   "metadata": {},
   "outputs": [
    {
     "name": "stdout",
     "output_type": "stream",
     "text": [
      "The tuple is :  (10, 20, 30, 40, 50, 60, 70)\n"
     ]
    },
    {
     "name": "stdin",
     "output_type": "stream",
     "text": [
      "Enter the number to be searched in the list 70\n"
     ]
    },
    {
     "name": "stdout",
     "output_type": "stream",
     "text": [
      "(10, 20, 30, 40, 50, 60, 70) 70\n",
      "The index of 70 in the tuple (10, 20, 30, 40, 50, 60, 70) is : 6\n"
     ]
    }
   ],
   "source": [
    "def search_index(in_tuple,in_num):\n",
    "    print(in_tuple,in_num)\n",
    "    my_index=in_tuple.index(in_num)\n",
    "    print(f\"The index of {in_num} in the tuple {in_tuple} is : {my_index}\")\n",
    "\n",
    "      \n",
    "my_tuple=(10,20,30,40,50,60,70)\n",
    "print(\"The tuple is : \",my_tuple)\n",
    "num=int(input(\"Enter the number to be searched in the list\"))\n",
    "search_index(my_tuple,num)"
   ]
  },
  {
   "cell_type": "code",
   "execution_count": null,
   "id": "a30741c5-8267-4cff-84e6-857e6efc4758",
   "metadata": {},
   "outputs": [],
   "source": [
    "\n",
    "\n",
    "\n",
    "\n",
    "\n",
    "\n",
    "\n",
    "\n",
    "\n",
    "\n"
   ]
  }
 ],
 "metadata": {
  "kernelspec": {
   "display_name": "Python 3 (ipykernel)",
   "language": "python",
   "name": "python3"
  },
  "language_info": {
   "codemirror_mode": {
    "name": "ipython",
    "version": 3
   },
   "file_extension": ".py",
   "mimetype": "text/x-python",
   "name": "python",
   "nbconvert_exporter": "python",
   "pygments_lexer": "ipython3",
   "version": "3.12.7"
  }
 },
 "nbformat": 4,
 "nbformat_minor": 5
}
